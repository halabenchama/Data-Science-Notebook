{
 "cells": [
  {
   "cell_type": "markdown",
   "id": "6b87be16-0724-4bbc-945b-c4cb2d2558e7",
   "metadata": {},
   "source": [
    "# Data Science Tools and Ecosystem"
   ]
  },
  {
   "cell_type": "markdown",
   "id": "c9fa5a6c-18d7-4dad-89b8-e8bf496267ff",
   "metadata": {},
   "source": [
    "## Introduction\r\n",
    "\r\n",
    "This notebook explores the tools, languages, and libraries commonly used in data science. It also includes examples of arithmetic operations and conversions to demonstrate basic Python functionality, as well as an overview of objectives and authorship."
   ]
  },
  {
   "cell_type": "markdown",
   "id": "f2aa3f1e-6b8f-4a3c-aa8c-eaac4b48ce14",
   "metadata": {},
   "source": [
    "## Data Science Languages\r\n",
    "\r\n",
    "- Python\r\n",
    "- R\r\n",
    "- SQL\r\n",
    "- Julia\r\n",
    "- Scala\r\n",
    "- Java"
   ]
  },
  {
   "cell_type": "markdown",
   "id": "02748374-b0ba-4f7c-b410-177ace49c8fc",
   "metadata": {},
   "source": [
    "## Data Science Libraries\r\n",
    "\r\n",
    "- NumPy\r\n",
    "- Pandas\r\n",
    "- Matplotlib\r\n",
    "- Scikit-learn\r\n",
    "- TensorFlow\r\n",
    "- PyTorch\r\n",
    "- ggplot2 (R)\r\n",
    "- dplyr (R)"
   ]
  },
  {
   "cell_type": "markdown",
   "id": "734ab863-7f38-44dd-864a-b859cdd583b9",
   "metadata": {},
   "source": [
    "## Data Science Tools\r\n",
    "\r\n",
    "| Tool           | Description                              |\r\n",
    "|----------------|------------------------------------------|\r\n",
    "| Jupyter Notebook | Interactive environment for coding and visualization |\r\n",
    "| RStudio        | IDE for R programming                    |\r\n",
    "| Apache Spark   | Big data processing framework            |\r\n",
    "| Tableau        | Data visualization and analytics platform |\r\n",
    "| Git            | Version control system                   |"
   ]
  },
  {
   "cell_type": "code",
   "execution_count": 1,
   "id": "b8aa982a-b1ed-414b-b926-32385faaa4d5",
   "metadata": {},
   "outputs": [
    {
     "name": "stdout",
     "output_type": "stream",
     "text": [
      "Multiplication: 5 * 3 = 15\n",
      "Addition: 5 + 3 = 8\n"
     ]
    }
   ],
   "source": [
    "# Multiply and add numbers\n",
    "a = 5\n",
    "b = 3\n",
    "multiplication = a * b\n",
    "addition = a + b\n",
    "print(f\"Multiplication: {a} * {b} = {multiplication}\")\n",
    "print(f\"Addition: {a} + {b} = {addition}\")"
   ]
  },
  {
   "cell_type": "code",
   "execution_count": 2,
   "id": "d8d6955c-8641-4adc-ade8-b1d763042168",
   "metadata": {},
   "outputs": [
    {
     "name": "stdout",
     "output_type": "stream",
     "text": [
      "120 minutes is equal to 2.0 hours\n"
     ]
    }
   ],
   "source": [
    "# Convert minutes to hours\n",
    "minutes = 120\n",
    "hours = minutes / 60\n",
    "print(f\"{minutes} minutes is equal to {hours} hours\")"
   ]
  },
  {
   "cell_type": "markdown",
   "id": "3a43a98f-5d37-40e0-9207-abf549b9925a",
   "metadata": {},
   "source": [
    "## Objectives\r\n",
    "\r\n",
    "- Understand the data science ecosystem and its tools.\r\n",
    "- Learn key programming languages used in data science.\r\n",
    "- Explore popular data science libraries.\r\n",
    "- Perform basic arithmetic operations in Python.\r\n",
    "- Convert units (e.g., minutes to hours) using Python code.\r\n",
    "- Share and document a notebook via GitHub."
   ]
  },
  {
   "cell_type": "markdown",
   "id": "66ada69d-45dc-4f16-9aaa-45532cb57d6a",
   "metadata": {},
   "source": [
    "## Author\r\n",
    "Hala Ben Chamame"
   ]
  }
 ],
 "metadata": {
  "kernelspec": {
   "display_name": "anaconda-2024.02-py310",
   "language": "python",
   "name": "conda-env-anaconda-2024.02-py310-py"
  },
  "language_info": {
   "codemirror_mode": {
    "name": "ipython",
    "version": 3
   },
   "file_extension": ".py",
   "mimetype": "text/x-python",
   "name": "python",
   "nbconvert_exporter": "python",
   "pygments_lexer": "ipython3",
   "version": "3.10.14"
  }
 },
 "nbformat": 4,
 "nbformat_minor": 5
}
